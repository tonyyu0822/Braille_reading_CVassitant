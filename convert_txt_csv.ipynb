{
 "cells": [
  {
   "cell_type": "code",
   "execution_count": 1,
   "metadata": {},
   "outputs": [],
   "source": [
    "import pandas as pd\n",
    "import numpy as np\n",
    "\n",
    "# Read in the tab-separated text file\n",
    "df = pd.read_csv('/Users/by12/Braille/FingerTracker/output_logs/monitor_data/output10_norm.txt', sep='\\t')\n",
    "df = df.rename(columns={'   0.0': 'time', '{}': 'coordinate'})\n",
    "df = df[df['coordinate'] != '{}']\n",
    "\n",
    "# Evaluate the coordinate strings\n",
    "df['coordinate'] = df['coordinate'].apply(lambda x: eval(x))\n",
    "\n",
    "# Define a function to split the coordinate values in the 'coordinate' column\n",
    "def split_coordinate_value(coord_dict):\n",
    "    coord_cols = {}\n",
    "    for key, value in coord_dict.items():\n",
    "        coord_cols[f'{key}_X'] = value[0]\n",
    "        coord_cols[f'{key}_Y'] = value[1]\n",
    "    return pd.Series(coord_cols)\n",
    "\n",
    "# Apply the function to the 'coordinate' column to create new columns for each key\n",
    "df = df.join(df['coordinate'].apply(split_coordinate_value))\n",
    "df.drop(columns=['coordinate'], inplace=True)\n",
    "df.head()\n",
    "\n",
    "# Write the DataFrame to a comma-separated CSV file\n",
    "df.to_csv('/Users/by12/Braille/FingerTracker/output_logs/monitor_data/test_acc.csv', index=False)\n"
   ]
  },
  {
   "attachments": {},
   "cell_type": "markdown",
   "metadata": {},
   "source": [
    "Delete coordinate column"
   ]
  },
  {
   "cell_type": "code",
   "execution_count": null,
   "metadata": {},
   "outputs": [],
   "source": [
    "import pandas as pd\n",
    "\n",
    "# Load the CSV file into a pandas DataFrame\n",
    "df = pd.read_csv('/Users/by12/Braille/FingerTracker/output_logs/monitor_data/edited_screen_index_coords.csv')\n",
    "\n",
    "# Delete the \"coordinate\" column\n",
    "df = df.drop('coordinate', axis=1)\n",
    "\n",
    "# Save the modified DataFrame back to a CSV file\n",
    "df.to_csv('index_coord_without_coordinate.csv', index=False)"
   ]
  },
  {
   "cell_type": "code",
   "execution_count": 95,
   "metadata": {},
   "outputs": [
    {
     "name": "stdout",
     "output_type": "stream",
     "text": [
      "1: (0.436953125, 0.9467527777777779)\n",
      "1: (0.436953125, 0.9467527777777779)\n",
      "1: (0.436953125, 0.9467527777777779)\n",
      "1: (0.436953125, 0.9467527777777779)\n",
      "1: (0.436953125, 0.9467527777777779)\n",
      "2: (0.4931328125, 0.9417611111111112)\n",
      "2: (0.4931328125, 0.9417611111111112)\n",
      "2: (0.4931328125, 0.9417611111111112), 3: (0.4556796875, 0.943425)\n"
     ]
    },
    {
     "ename": "ValueError",
     "evalue": "too many values to unpack (expected 2)",
     "output_type": "error",
     "traceback": [
      "\u001b[0;31m---------------------------------------------------------------------------\u001b[0m",
      "\u001b[0;31mValueError\u001b[0m                                Traceback (most recent call last)",
      "Cell \u001b[0;32mIn[95], line 21\u001b[0m\n\u001b[1;32m     19\u001b[0m \u001b[39mif\u001b[39;00m coords \u001b[39m!=\u001b[39m \u001b[39m'\u001b[39m\u001b[39m'\u001b[39m:\n\u001b[1;32m     20\u001b[0m     \u001b[39mprint\u001b[39m(coords)\n\u001b[0;32m---> 21\u001b[0m     finger, values \u001b[39m=\u001b[39m coords\u001b[39m.\u001b[39msplit(\u001b[39m'\u001b[39m\u001b[39m:\u001b[39m\u001b[39m'\u001b[39m)\n\u001b[1;32m     22\u001b[0m     values \u001b[39m=\u001b[39m values[\u001b[39m1\u001b[39m:\u001b[39m-\u001b[39m\u001b[39m1\u001b[39m]\n\u001b[1;32m     23\u001b[0m     x, y \u001b[39m=\u001b[39m values\u001b[39m.\u001b[39mstrip()[\u001b[39m1\u001b[39m:\u001b[39m-\u001b[39m\u001b[39m1\u001b[39m]\u001b[39m.\u001b[39msplit(\u001b[39m'\u001b[39m\u001b[39m,\u001b[39m\u001b[39m'\u001b[39m)\n",
      "\u001b[0;31mValueError\u001b[0m: too many values to unpack (expected 2)"
     ]
    }
   ],
   "source": [
    "import pandas as pd\n",
    "\n",
    "# Open the txt file and read each line\n",
    "with open('/Users/by12/Braille/FingerTracker/output_logs/monitor_data/output9_norm.txt', 'r') as f:\n",
    "    lines = f.readlines()\n",
    "\n",
    "# Create an empty list to hold the time and coordinates information\n",
    "data = []\n",
    "\n",
    "# Loop through each line of the file\n",
    "for line in lines:\n",
    "    # Split the line into the time and coordinates information\n",
    "    time, coords = line.strip().split('\\t')\n",
    "\n",
    "    # Create lists to hold the x and y coordinates for each hand\n",
    "    hand_coord = []\n",
    "    # Remove the brackets from the coordinates information and split it into separate values\n",
    "    coords = coords[1:-1]\n",
    "    if coords != '':\n",
    "        print(coords)\n",
    "        finger, values = coords.split(':')\n",
    "        values = values[1:-1]\n",
    "        x, y = values.strip()[1:-1].split(',')\n",
    "        hand_coord.extend([float(x), float(y)])\n",
    "        data.append([float(time)] +  hand_coord)\n",
    "    else:\n",
    "        pass\n",
    "\n",
    "\n",
    "    # # Loop through each set of finger coordinates and add it to the appropriate list\n",
    "    # for coord in coords:\n",
    "    #     if coord != '':\n",
    "    #         finger, values = coord.split(':')\n",
    " \n",
    "    #         x, y = values.strip()[1:-1].split(',')\n",
    "    #         if finger in [1,2,3,4,5,6]:\n",
    "    #              hand_coord.extend([float(x), float(y)])\n",
    "\n",
    "    \n",
    "    # Add the time and finger coordinates to the data list\n",
    "\n",
    "\n",
    "# Create a pandas DataFrame from the data list\n",
    "Touch = pd.DataFrame(data, columns=['Time', 'X1', 'Y1', 'X2', 'Y2', 'X3', 'Y3',\n",
    "                                 'X4', 'Y4', 'X5', 'Y5', 'X6', 'Y6'])\n"
   ]
  },
  {
   "cell_type": "code",
   "execution_count": 23,
   "metadata": {},
   "outputs": [
    {
     "data": {
      "text/plain": [
       "['1', ' (0.436953125 0.9467527777777779)']"
      ]
     },
     "execution_count": 23,
     "metadata": {},
     "output_type": "execute_result"
    }
   ],
   "source": [
    "ps = \"1: (0.436953125 0.9467527777777779)\"\n",
    "ps.split(\":\")"
   ]
  },
  {
   "cell_type": "code",
   "execution_count": null,
   "metadata": {},
   "outputs": [],
   "source": []
  }
 ],
 "metadata": {
  "kernelspec": {
   "display_name": "base",
   "language": "python",
   "name": "python3"
  },
  "language_info": {
   "codemirror_mode": {
    "name": "ipython",
    "version": 3
   },
   "file_extension": ".py",
   "mimetype": "text/x-python",
   "name": "python",
   "nbconvert_exporter": "python",
   "pygments_lexer": "ipython3",
   "version": "3.9.13"
  },
  "orig_nbformat": 4,
  "vscode": {
   "interpreter": {
    "hash": "d84bfb564179236b4bc63c301f924f812497599b476d9c0ae65adba70f151827"
   }
  }
 },
 "nbformat": 4,
 "nbformat_minor": 2
}
